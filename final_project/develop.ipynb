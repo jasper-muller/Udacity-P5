{
 "cells": [
  {
   "cell_type": "code",
   "execution_count": 1,
   "metadata": {
    "collapsed": true
   },
   "outputs": [],
   "source": [
    "#!/usr/bin/python\n",
    "\n",
    "import sys\n",
    "import pickle\n",
    "import pandas as pd\n",
    "sys.path.append(\"../tools/\")\n",
    "\n",
    "from feature_format import featureFormat, targetFeatureSplit\n",
    "from tester import dump_classifier_and_data"
   ]
  },
  {
   "cell_type": "markdown",
   "metadata": {},
   "source": [
    "# Task 1: \n",
    "Select what features you'll use.\n",
    "features_list is a list of strings, each of which is a feature name.\n",
    "The first feature must be \"poi\"."
   ]
  },
  {
   "cell_type": "code",
   "execution_count": 2,
   "metadata": {
    "collapsed": false
   },
   "outputs": [],
   "source": [
    "features = ['poi',\n",
    "            'bonus',\n",
    "            'deferral_payments',\n",
    "            'deferred_income',\n",
    "            'director_fees',\n",
    "            'exercised_stock_options',\n",
    "            'expenses',\n",
    "            'from_messages',\n",
    "            'from_poi_to_this_person',\n",
    "            'from_this_person_to_poi',\n",
    "            'loan_advances',\n",
    "            'long_term_incentive',\n",
    "            'other',\n",
    "            'restricted_stock',\n",
    "            'restricted_stock_deferred',\n",
    "            'salary',\n",
    "            'shared_receipt_with_poi',\n",
    "            'to_messages',\n",
    "            'total_payments',\n",
    "            'total_stock_value',\n",
    "            'relative_messages_from_poi',\n",
    "            'relative_messages_to_poi']\n",
    "\n",
    "features_list = features  # You will need to use more features\n",
    "\n",
    "# Load the dictionary containing the dataset\n",
    "with open(\"final_project_dataset.pkl\", \"r\") as data_file:\n",
    "    data_dict = pickle.load(data_file)"
   ]
  },
  {
   "cell_type": "markdown",
   "metadata": {},
   "source": [
    "# Task 2\n",
    "Remove outliers / data preparation"
   ]
  },
  {
   "cell_type": "code",
   "execution_count": 3,
   "metadata": {
    "collapsed": true
   },
   "outputs": [],
   "source": [
    "outliers = ['TOTAL', 'THE TRAVEL AGENCY IN THE PARK']  # See notebook data exploration\n",
    "\n",
    "for outlier in outliers:\n",
    "    del data_dict[outlier]"
   ]
  },
  {
   "cell_type": "markdown",
   "metadata": {},
   "source": [
    "# Task 3\n",
    "Create new feature(s)"
   ]
  },
  {
   "cell_type": "code",
   "execution_count": 25,
   "metadata": {
    "collapsed": false
   },
   "outputs": [],
   "source": [
    "for employee in data_dict:\n",
    "    to_messages = data_dict[employee]['to_messages']\n",
    "    from_messages = data_dict[employee]['from_messages']\n",
    "    from_poi_to_this_person = data_dict[employee]['from_poi_to_this_person']\n",
    "    from_this_person_to_poi = data_dict[employee]['from_this_person_to_poi']\n",
    "\n",
    "    # If either of the input features for the new feature is 'NaN',\n",
    "    # the result for the new feature will also be 'NaN'\n",
    "    if to_messages == 'NaN' or from_poi_to_this_person == 'NaN':\n",
    "        data_dict[employee]['relative_messages_to_poi'] = 'NaN'\n",
    "    if from_messages == 'NaN' or from_this_person_to_poi == 'NaN':\n",
    "        data_dict[employee]['relative_messages_from_poi'] = 'NaN'\n",
    "\n",
    "    # If both input features are not 'NaN', calculate the new features\n",
    "    else:\n",
    "        # Convert to float here, otherwise the check for 'NaN' above would not have worked correctly\n",
    "        # (values would be the 'real' nan)\n",
    "       \n",
    "        to_messages = float(to_messages)\n",
    "        from_messages = float(from_messages)\n",
    "        from_poi_to_this_person = float(from_poi_to_this_person)\n",
    "        from_this_person_to_poi = float(from_this_person_to_poi)\n",
    "\n",
    "        # Calculate the new features\n",
    "        data_dict[employee]['relative_messages_from_poi'] = from_poi_to_this_person/to_messages\n",
    "        data_dict[employee]['relative_messages_to_poi'] = from_this_person_to_poi/from_messages"
   ]
  },
  {
   "cell_type": "code",
   "execution_count": 26,
   "metadata": {
    "collapsed": true
   },
   "outputs": [],
   "source": [
    "# Store to my_dataset for easy export below.\n",
    "my_dataset = data_dict"
   ]
  },
  {
   "cell_type": "code",
   "execution_count": 42,
   "metadata": {
    "collapsed": false
   },
   "outputs": [
    {
     "data": {
      "text/plain": [
       "(143L, 22L)"
      ]
     },
     "execution_count": 42,
     "metadata": {},
     "output_type": "execute_result"
    },
    {
     "data": {
      "text/plain": [
       "array([  0.00000000e+00,   4.17500000e+06,   2.86971700e+06,\n",
       "        -3.08105500e+06,   0.00000000e+00,   1.72954100e+06,\n",
       "         1.38680000e+04,   2.19500000e+03,   4.70000000e+01,\n",
       "         6.50000000e+01,   0.00000000e+00,   3.04805000e+05,\n",
       "         1.52000000e+02,   1.26027000e+05,  -1.26027000e+05,\n",
       "         2.01955000e+05,   1.40700000e+03,   2.90200000e+03,\n",
       "         4.48444200e+06,   1.72954100e+06,   1.61957271e-02,\n",
       "         2.96127563e-02])"
      ]
     },
     "execution_count": 42,
     "metadata": {},
     "output_type": "execute_result"
    }
   ],
   "source": [
    "# Extract features and labels from dataset for local testing\n",
    "data = featureFormat(my_dataset, features_list, sort_keys = True)"
   ]
  },
  {
   "cell_type": "code",
   "execution_count": 44,
   "metadata": {
    "collapsed": false
   },
   "outputs": [],
   "source": [
    "labels, features = targetFeatureSplit(data)\n",
    "\n",
    "from sklearn.preprocessing import MinMaxScaler\n",
    "\n",
    "scaler = MinMaxScaler()\n",
    "features_scaled = scaler.fit_transform(features)"
   ]
  },
  {
   "cell_type": "markdown",
   "metadata": {},
   "source": [
    "# Task 4: \n",
    "Try a varity of classifiers\n",
    "Please name your classifier clf for easy export below.\n",
    "Note that if you want to do PCA or other multi-stage operations,\n",
    "you'll need to use Pipelines. For more info:\n",
    "http://scikit-learn.org/stable/modules/pipeline.html\n"
   ]
  },
  {
   "cell_type": "code",
   "execution_count": 29,
   "metadata": {
    "collapsed": true
   },
   "outputs": [],
   "source": [
    "# Provided to give you a starting point. Try a variety of classifiers.\n",
    "from sklearn.naive_bayes import GaussianNB\n",
    "clf = GaussianNB()"
   ]
  },
  {
   "cell_type": "markdown",
   "metadata": {},
   "source": [
    "# Task 5\n",
    "Tune your classifier to achieve better than .3 precision and recall\n",
    "using our testing script. Check the tester.py script in the final project\n",
    "folder for details on the evaluation method, especially the test_classifier\n",
    "function. Because of the small size of the dataset, the script uses\n",
    "stratified shuffle split cross validation. For more info:\n",
    "http://scikit-learn.org/stable/modules/generated/sklearn.cross_validation.StratifiedShuffleSplit.html"
   ]
  },
  {
   "cell_type": "code",
   "execution_count": 79,
   "metadata": {
    "collapsed": false
   },
   "outputs": [],
   "source": [
    "# Example starting point. Try investigating other evaluation techniques!\n",
    "from sklearn.cross_validation import train_test_split\n",
    "features_train, features_test, labels_train, labels_test = \\\n",
    "    train_test_split(features, labels, test_size=0.3, random_state=42)\n",
    "\n",
    "features_train_sc, features_test_sc, labels_train_sc, labels_test_sc = \\\n",
    "    train_test_split(features, labels, test_size=0.3, random_state=42)    \n",
    "\n",
    "# NB: if we only use financial features, we don't have to scale our features\n",
    "from sklearn.feature_selection import f_classif, SelectKBest\n",
    "selector = SelectKBest(score_func=f_classif, k=5)\n",
    "selector = selector.fit(features_train, labels_train)\n",
    "selector_sc = selector.fit(features_train_sc, labels_train_sc)"
   ]
  },
  {
   "cell_type": "code",
   "execution_count": 69,
   "metadata": {
    "collapsed": false
   },
   "outputs": [],
   "source": [
    "scores_dict = {}\n",
    "pvalues_dict = {}\n",
    "\n",
    "for i, feature in enumerate(features_list[1:]):\n",
    "    scores_dict[feature] = selector.scores_[i]\n",
    "    pvalues_dict[feature] = selector.pvalues_[i]"
   ]
  },
  {
   "cell_type": "code",
   "execution_count": 70,
   "metadata": {
    "collapsed": false
   },
   "outputs": [],
   "source": [
    "scores_dict_sc = {}\n",
    "\n",
    "for i, feature in enumerate(features_list[1:]):\n",
    "    scores_dict_sc[feature] = selector_sc.scores_[i]"
   ]
  },
  {
   "cell_type": "code",
   "execution_count": 71,
   "metadata": {
    "collapsed": false
   },
   "outputs": [],
   "source": [
    "scores_df = pd.DataFrame.from_dict(scores_dict, orient='index')\n",
    "pvalues_df = pd.DataFrame.from_dict(pvalues_dict, orient='index')\n",
    "scores_df_sc = pd.DataFrame.from_dict(scores_dict_sc, orient='index')"
   ]
  },
  {
   "cell_type": "code",
   "execution_count": 76,
   "metadata": {
    "collapsed": false
   },
   "outputs": [
    {
     "data": {
      "text/html": [
       "<div>\n",
       "<table border=\"1\" class=\"dataframe\">\n",
       "  <thead>\n",
       "    <tr style=\"text-align: right;\">\n",
       "      <th></th>\n",
       "      <th>0</th>\n",
       "    </tr>\n",
       "  </thead>\n",
       "  <tbody>\n",
       "    <tr>\n",
       "      <th>bonus</th>\n",
       "      <td>30.728775</td>\n",
       "    </tr>\n",
       "    <tr>\n",
       "      <th>salary</th>\n",
       "      <td>15.858731</td>\n",
       "    </tr>\n",
       "    <tr>\n",
       "      <th>relative_messages_to_poi</th>\n",
       "      <td>15.838095</td>\n",
       "    </tr>\n",
       "    <tr>\n",
       "      <th>shared_receipt_with_poi</th>\n",
       "      <td>10.722571</td>\n",
       "    </tr>\n",
       "    <tr>\n",
       "      <th>total_stock_value</th>\n",
       "      <td>10.633852</td>\n",
       "    </tr>\n",
       "    <tr>\n",
       "      <th>exercised_stock_options</th>\n",
       "      <td>9.680041</td>\n",
       "    </tr>\n",
       "    <tr>\n",
       "      <th>total_payments</th>\n",
       "      <td>8.959137</td>\n",
       "    </tr>\n",
       "    <tr>\n",
       "      <th>deferred_income</th>\n",
       "      <td>8.792204</td>\n",
       "    </tr>\n",
       "    <tr>\n",
       "      <th>restricted_stock</th>\n",
       "      <td>8.058306</td>\n",
       "    </tr>\n",
       "    <tr>\n",
       "      <th>long_term_incentive</th>\n",
       "      <td>7.555120</td>\n",
       "    </tr>\n",
       "    <tr>\n",
       "      <th>loan_advances</th>\n",
       "      <td>7.037933</td>\n",
       "    </tr>\n",
       "    <tr>\n",
       "      <th>from_poi_to_this_person</th>\n",
       "      <td>4.958667</td>\n",
       "    </tr>\n",
       "    <tr>\n",
       "      <th>expenses</th>\n",
       "      <td>4.180721</td>\n",
       "    </tr>\n",
       "    <tr>\n",
       "      <th>other</th>\n",
       "      <td>3.204459</td>\n",
       "    </tr>\n",
       "    <tr>\n",
       "      <th>to_messages</th>\n",
       "      <td>2.616183</td>\n",
       "    </tr>\n",
       "    <tr>\n",
       "      <th>director_fees</th>\n",
       "      <td>1.641098</td>\n",
       "    </tr>\n",
       "    <tr>\n",
       "      <th>restricted_stock_deferred</th>\n",
       "      <td>0.727124</td>\n",
       "    </tr>\n",
       "    <tr>\n",
       "      <th>relative_messages_from_poi</th>\n",
       "      <td>0.519231</td>\n",
       "    </tr>\n",
       "    <tr>\n",
       "      <th>from_messages</th>\n",
       "      <td>0.435374</td>\n",
       "    </tr>\n",
       "    <tr>\n",
       "      <th>from_this_person_to_poi</th>\n",
       "      <td>0.111208</td>\n",
       "    </tr>\n",
       "    <tr>\n",
       "      <th>deferral_payments</th>\n",
       "      <td>0.009982</td>\n",
       "    </tr>\n",
       "  </tbody>\n",
       "</table>\n",
       "</div>"
      ],
      "text/plain": [
       "                                    0\n",
       "bonus                       30.728775\n",
       "salary                      15.858731\n",
       "relative_messages_to_poi    15.838095\n",
       "shared_receipt_with_poi     10.722571\n",
       "total_stock_value           10.633852\n",
       "exercised_stock_options      9.680041\n",
       "total_payments               8.959137\n",
       "deferred_income              8.792204\n",
       "restricted_stock             8.058306\n",
       "long_term_incentive          7.555120\n",
       "loan_advances                7.037933\n",
       "from_poi_to_this_person      4.958667\n",
       "expenses                     4.180721\n",
       "other                        3.204459\n",
       "to_messages                  2.616183\n",
       "director_fees                1.641098\n",
       "restricted_stock_deferred    0.727124\n",
       "relative_messages_from_poi   0.519231\n",
       "from_messages                0.435374\n",
       "from_this_person_to_poi      0.111208\n",
       "deferral_payments            0.009982"
      ]
     },
     "execution_count": 76,
     "metadata": {},
     "output_type": "execute_result"
    },
    {
     "data": {
      "text/html": [
       "<div>\n",
       "<table border=\"1\" class=\"dataframe\">\n",
       "  <thead>\n",
       "    <tr style=\"text-align: right;\">\n",
       "      <th></th>\n",
       "      <th>0</th>\n",
       "    </tr>\n",
       "  </thead>\n",
       "  <tbody>\n",
       "    <tr>\n",
       "      <th>bonus</th>\n",
       "      <td>2.508124e-07</td>\n",
       "    </tr>\n",
       "    <tr>\n",
       "      <th>salary</th>\n",
       "      <td>1.311455e-04</td>\n",
       "    </tr>\n",
       "    <tr>\n",
       "      <th>relative_messages_to_poi</th>\n",
       "      <td>1.323812e-04</td>\n",
       "    </tr>\n",
       "    <tr>\n",
       "      <th>shared_receipt_with_poi</th>\n",
       "      <td>1.463355e-03</td>\n",
       "    </tr>\n",
       "    <tr>\n",
       "      <th>total_stock_value</th>\n",
       "      <td>1.527956e-03</td>\n",
       "    </tr>\n",
       "    <tr>\n",
       "      <th>exercised_stock_options</th>\n",
       "      <td>2.440498e-03</td>\n",
       "    </tr>\n",
       "    <tr>\n",
       "      <th>total_payments</th>\n",
       "      <td>3.494029e-03</td>\n",
       "    </tr>\n",
       "    <tr>\n",
       "      <th>deferred_income</th>\n",
       "      <td>3.799220e-03</td>\n",
       "    </tr>\n",
       "    <tr>\n",
       "      <th>restricted_stock</th>\n",
       "      <td>5.506929e-03</td>\n",
       "    </tr>\n",
       "    <tr>\n",
       "      <th>long_term_incentive</th>\n",
       "      <td>7.124774e-03</td>\n",
       "    </tr>\n",
       "    <tr>\n",
       "      <th>loan_advances</th>\n",
       "      <td>9.310310e-03</td>\n",
       "    </tr>\n",
       "    <tr>\n",
       "      <th>from_poi_to_this_person</th>\n",
       "      <td>2.824947e-02</td>\n",
       "    </tr>\n",
       "    <tr>\n",
       "      <th>expenses</th>\n",
       "      <td>4.356758e-02</td>\n",
       "    </tr>\n",
       "    <tr>\n",
       "      <th>other</th>\n",
       "      <td>7.652601e-02</td>\n",
       "    </tr>\n",
       "    <tr>\n",
       "      <th>to_messages</th>\n",
       "      <td>1.089930e-01</td>\n",
       "    </tr>\n",
       "    <tr>\n",
       "      <th>director_fees</th>\n",
       "      <td>2.031981e-01</td>\n",
       "    </tr>\n",
       "    <tr>\n",
       "      <th>restricted_stock_deferred</th>\n",
       "      <td>3.958962e-01</td>\n",
       "    </tr>\n",
       "    <tr>\n",
       "      <th>relative_messages_from_poi</th>\n",
       "      <td>4.728851e-01</td>\n",
       "    </tr>\n",
       "    <tr>\n",
       "      <th>from_messages</th>\n",
       "      <td>5.109114e-01</td>\n",
       "    </tr>\n",
       "    <tr>\n",
       "      <th>from_this_person_to_poi</th>\n",
       "      <td>7.394852e-01</td>\n",
       "    </tr>\n",
       "    <tr>\n",
       "      <th>deferral_payments</th>\n",
       "      <td>9.206183e-01</td>\n",
       "    </tr>\n",
       "  </tbody>\n",
       "</table>\n",
       "</div>"
      ],
      "text/plain": [
       "                                       0\n",
       "bonus                       2.508124e-07\n",
       "salary                      1.311455e-04\n",
       "relative_messages_to_poi    1.323812e-04\n",
       "shared_receipt_with_poi     1.463355e-03\n",
       "total_stock_value           1.527956e-03\n",
       "exercised_stock_options     2.440498e-03\n",
       "total_payments              3.494029e-03\n",
       "deferred_income             3.799220e-03\n",
       "restricted_stock            5.506929e-03\n",
       "long_term_incentive         7.124774e-03\n",
       "loan_advances               9.310310e-03\n",
       "from_poi_to_this_person     2.824947e-02\n",
       "expenses                    4.356758e-02\n",
       "other                       7.652601e-02\n",
       "to_messages                 1.089930e-01\n",
       "director_fees               2.031981e-01\n",
       "restricted_stock_deferred   3.958962e-01\n",
       "relative_messages_from_poi  4.728851e-01\n",
       "from_messages               5.109114e-01\n",
       "from_this_person_to_poi     7.394852e-01\n",
       "deferral_payments           9.206183e-01"
      ]
     },
     "execution_count": 76,
     "metadata": {},
     "output_type": "execute_result"
    }
   ],
   "source": [
    "scores_df.sort_values(by=0, ascending=False)\n",
    "pvalues_df.sort_values(by=0, ascending=True)"
   ]
  },
  {
   "cell_type": "markdown",
   "metadata": {},
   "source": [
    "Are scores for scaled features the same as scores for non-scaled features? Apparently so."
   ]
  },
  {
   "cell_type": "code",
   "execution_count": 63,
   "metadata": {
    "collapsed": false
   },
   "outputs": [
    {
     "data": {
      "text/plain": [
       "True"
      ]
     },
     "execution_count": 63,
     "metadata": {},
     "output_type": "execute_result"
    }
   ],
   "source": [
    "all((scores_df == scores_df_sc)[0])"
   ]
  },
  {
   "cell_type": "code",
   "execution_count": 80,
   "metadata": {
    "collapsed": false
   },
   "outputs": [
    {
     "data": {
      "text/plain": [
       "(100L, 5L)"
      ]
     },
     "execution_count": 80,
     "metadata": {},
     "output_type": "execute_result"
    }
   ],
   "source": [
    "selected_features = selector.fit_transform(features_train, labels_train)"
   ]
  },
  {
   "cell_type": "markdown",
   "metadata": {},
   "source": [
    "# Task 6:\n",
    "Dump your classifier, dataset, and features_list so anyone can\n",
    "check your results. You do not need to change anything below, but make sure\n",
    "that the version of poi_id.py that you submit can be run on its own and\n",
    "generates the necessary .pkl files for validating your results."
   ]
  },
  {
   "cell_type": "code",
   "execution_count": null,
   "metadata": {
    "collapsed": true
   },
   "outputs": [],
   "source": [
    "dump_classifier_and_data(clf, my_dataset, features_list)"
   ]
  }
 ],
 "metadata": {
  "kernelspec": {
   "display_name": "Python 2",
   "language": "python",
   "name": "python2"
  },
  "language_info": {
   "codemirror_mode": {
    "name": "ipython",
    "version": 2
   },
   "file_extension": ".py",
   "mimetype": "text/x-python",
   "name": "python",
   "nbconvert_exporter": "python",
   "pygments_lexer": "ipython2",
   "version": "2.7.11"
  }
 },
 "nbformat": 4,
 "nbformat_minor": 0
}
