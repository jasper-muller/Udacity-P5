{
 "cells": [
  {
   "cell_type": "code",
   "execution_count": 11,
   "metadata": {
    "collapsed": false
   },
   "outputs": [],
   "source": [
    "#!/usr/bin/python\n",
    "import sys\n",
    "import pickle\n",
    "import pandas as pd\n",
    "sys.path.append(\"../tools/\")\n",
    "\n",
    "from feature_format import featureFormat, targetFeatureSplit\n",
    "from tester import dump_classifier_and_data\n",
    "from sklearn.feature_selection import f_classif, SelectKBest\n",
    "from sklearn.cross_validation import train_test_split, StratifiedShuffleSplit\n",
    "from sklearn.metrics import recall_score, precision_score\n",
    "from pprint import pprint\n",
    "import matplotlib.pyplot as plt\n",
    "%matplotlib inline\n",
    "plt.style.use('ggplot')\n",
    "from IPython.display import clear_output\n",
    "from sklearn.preprocessing import MinMaxScaler"
   ]
  },
  {
   "cell_type": "markdown",
   "metadata": {},
   "source": [
    "# Task 1: \n",
    "Select what features you'll use.\n",
    "features_list is a list of strings, each of which is a feature name.\n",
    "The first feature must be \"poi\"."
   ]
  },
  {
   "cell_type": "code",
   "execution_count": 2,
   "metadata": {
    "collapsed": false
   },
   "outputs": [],
   "source": [
    "features_list = ['poi',\n",
    "                 'bonus',\n",
    "                 'deferral_payments',\n",
    "                 'deferred_income',\n",
    "                 'director_fees',\n",
    "                 'exercised_stock_options',\n",
    "                 'expenses',\n",
    "                 'from_messages',\n",
    "                 'from_poi_to_this_person',\n",
    "                 'from_this_person_to_poi',\n",
    "                 'loan_advances',\n",
    "                 'long_term_incentive',\n",
    "                 'other',\n",
    "                 'relative_messages_from_poi',\n",
    "                 'relative_messages_to_poi',\n",
    "                 'restricted_stock',\n",
    "                 'restricted_stock_deferred',\n",
    "                 'salary',\n",
    "                 'shared_receipt_with_poi',\n",
    "                 'to_messages',\n",
    "                 'total_payments',\n",
    "                 'total_stock_value']\n",
    "\n",
    "# Load the dictionary containing the dataset\n",
    "with open(\"final_project_dataset.pkl\", \"r\") as data_file:\n",
    "    data_dict = pickle.load(data_file)"
   ]
  },
  {
   "cell_type": "markdown",
   "metadata": {},
   "source": [
    "# Task 2\n",
    "Remove outliers / data preparation"
   ]
  },
  {
   "cell_type": "code",
   "execution_count": 3,
   "metadata": {
    "collapsed": true
   },
   "outputs": [],
   "source": [
    "outliers = ['TOTAL', 'THE TRAVEL AGENCY IN THE PARK']  # See notebook data exploration\n",
    "\n",
    "for outlier in outliers:\n",
    "    del data_dict[outlier]"
   ]
  },
  {
   "cell_type": "markdown",
   "metadata": {},
   "source": [
    "# Task 3\n",
    "Create new feature(s)"
   ]
  },
  {
   "cell_type": "code",
   "execution_count": 4,
   "metadata": {
    "collapsed": false
   },
   "outputs": [],
   "source": [
    "for employee in data_dict:\n",
    "    to_messages = data_dict[employee]['to_messages']\n",
    "    from_messages = data_dict[employee]['from_messages']\n",
    "    from_poi_to_this_person = data_dict[employee]['from_poi_to_this_person']\n",
    "    from_this_person_to_poi = data_dict[employee]['from_this_person_to_poi']\n",
    "\n",
    "    # If either of the input features for the new feature is 'NaN',\n",
    "    # the result for the new feature will also be 'NaN'\n",
    "    if to_messages == 'NaN' or from_poi_to_this_person == 'NaN':\n",
    "        data_dict[employee]['relative_messages_to_poi'] = 'NaN'\n",
    "    if from_messages == 'NaN' or from_this_person_to_poi == 'NaN':\n",
    "        data_dict[employee]['relative_messages_from_poi'] = 'NaN'\n",
    "\n",
    "    # If both input features are not 'NaN', calculate the new features\n",
    "    else:\n",
    "        # Convert to float here, otherwise the check for 'NaN' above would not have worked correctly\n",
    "        # (values would be the 'real' nan)\n",
    "       \n",
    "        to_messages = float(to_messages)\n",
    "        from_messages = float(from_messages)\n",
    "        from_poi_to_this_person = float(from_poi_to_this_person)\n",
    "        from_this_person_to_poi = float(from_this_person_to_poi)\n",
    "\n",
    "        # Calculate the new features\n",
    "        data_dict[employee]['relative_messages_from_poi'] = from_poi_to_this_person/to_messages\n",
    "        data_dict[employee]['relative_messages_to_poi'] = from_this_person_to_poi/from_messages"
   ]
  },
  {
   "cell_type": "code",
   "execution_count": 5,
   "metadata": {
    "collapsed": true
   },
   "outputs": [],
   "source": [
    "# Store to my_dataset for easy export below.\n",
    "my_dataset = data_dict"
   ]
  },
  {
   "cell_type": "code",
   "execution_count": 6,
   "metadata": {
    "collapsed": false
   },
   "outputs": [],
   "source": [
    "# Extract features and labels from dataset for local testing\n",
    "data = featureFormat(my_dataset, features_list)"
   ]
  },
  {
   "cell_type": "code",
   "execution_count": 7,
   "metadata": {
    "collapsed": false
   },
   "outputs": [],
   "source": [
    "labels, features = targetFeatureSplit(data)"
   ]
  },
  {
   "cell_type": "markdown",
   "metadata": {},
   "source": [
    "I'll use a somewhat adapted version of the cross-validator in `tester.py` to check what combination of features performs best. See below:"
   ]
  },
  {
   "cell_type": "code",
   "execution_count": 12,
   "metadata": {
    "collapsed": false
   },
   "outputs": [],
   "source": [
    "def test_classifier(clf, features, labels, folds = 1000):\n",
    "    cv = StratifiedShuffleSplit(labels, folds, random_state = 42)\n",
    "    true_negatives = 0\n",
    "    false_negatives = 0\n",
    "    true_positives = 0\n",
    "    false_positives = 0\n",
    "    for train_idx, test_idx in cv:\n",
    "        features_train = []\n",
    "        features_test  = []\n",
    "        labels_train   = []\n",
    "        labels_test    = []\n",
    "        for ii in train_idx:\n",
    "            features_train.append(features[ii])\n",
    "            labels_train.append(labels[ii])\n",
    "        for jj in test_idx:\n",
    "            features_test.append(features[jj])\n",
    "            labels_test.append(labels[jj])\n",
    "\n",
    "        ### fit the classifier using training set, and test on test set\n",
    "        clf.fit(features_train, labels_train)\n",
    "        predictions = clf.predict(features_test)\n",
    "        for prediction, truth in zip(predictions, labels_test):\n",
    "            if prediction == 0 and truth == 0:\n",
    "                true_negatives += 1\n",
    "            elif prediction == 0 and truth == 1:\n",
    "                false_negatives += 1\n",
    "            elif prediction == 1 and truth == 0:\n",
    "                false_positives += 1\n",
    "            elif prediction == 1 and truth == 1:\n",
    "                true_positives += 1\n",
    "            else:\n",
    "                print \"Warning: Found a predicted label not == 0 or 1.\"\n",
    "                print \"All predictions should take value 0 or 1.\"\n",
    "                print \"Evaluating performance for processed predictions:\"\n",
    "                break\n",
    "        #print clf.best_params_\n",
    "        jasper += 1\n",
    "        clear_output(wait=True)\n",
    "    try:\n",
    "        total_predictions = true_negatives + false_negatives + false_positives + true_positives\n",
    "        accuracy = 1.0*(true_positives + true_negatives)/total_predictions\n",
    "        precision = 1.0*true_positives/(true_positives+false_positives)\n",
    "        recall = 1.0*true_positives/(true_positives+false_negatives)\n",
    "        f1 = 2.0 * true_positives/(2*true_positives + false_positives+false_negatives)\n",
    "        f2 = (1+2.0*2.0) * precision*recall/(4*precision + recall)\n",
    "\n",
    "        return {'accuracy': accuracy,\n",
    "                'precision': precision,\n",
    "                'recall': recall,\n",
    "                'f1': f1,\n",
    "                'f2': f2}\n",
    "    except:\n",
    "        return {'value': 'undefined'}"
   ]
  },
  {
   "cell_type": "code",
   "execution_count": 14,
   "metadata": {
    "collapsed": true
   },
   "outputs": [],
   "source": [
    "# Provided to give you a starting point. Try a variety of classifiers.\n",
    "from sklearn.naive_bayes import GaussianNB\n",
    "clf = GaussianNB()"
   ]
  },
  {
   "cell_type": "code",
   "execution_count": null,
   "metadata": {
    "collapsed": false,
    "scrolled": true
   },
   "outputs": [],
   "source": [
    "result_dict = {}\n",
    "\n",
    "for k in range(1, len(features_list)):\n",
    "    print k\n",
    "    selector = SelectKBest(f_classif, k=k).fit(features, labels)\n",
    "    best_features = SelectKBest(f_classif, k=k).fit_transform(features, labels)        \n",
    "\n",
    "    result_dict[k] = test_classifier(clf, best_features, labels, folds = 1000)\n",
    "    \n",
    "    i_feature_name = selector.get_support(indices=True)\n",
    "    feature_names = [features_list[1:][i] for i in i_feature_name]\n",
    "    result_dict[k]['feature_names'] = feature_names\n",
    "    \n",
    "    clear_output(wait=True)"
   ]
  },
  {
   "cell_type": "code",
   "execution_count": 16,
   "metadata": {
    "collapsed": false
   },
   "outputs": [],
   "source": [
    "df_result = pd.DataFrame.from_dict(result_dict, orient='index')"
   ]
  },
  {
   "cell_type": "code",
   "execution_count": 17,
   "metadata": {
    "collapsed": false
   },
   "outputs": [
    {
     "data": {
      "text/plain": [
       "<matplotlib.text.Text at 0x115db3510>"
      ]
     },
     "execution_count": 17,
     "metadata": {},
     "output_type": "execute_result"
    },
    {
     "data": {
      "image/png": "[encoded data removed]",
      "text/plain": [
       "<matplotlib.figure.Figure at 0x1131d6b10>"
      ]
     },
     "metadata": {},
     "output_type": "display_data"
    }
   ],
   "source": [
    "ax = df_result[['recall', 'precision']].plot(title='Classifier performance for different values of k', figsize=(10,8), ylim=[0,1.1])\n",
    "ax.set_xlabel('k')"
   ]
  },
  {
   "cell_type": "code",
   "execution_count": 18,
   "metadata": {
    "collapsed": false
   },
   "outputs": [],
   "source": [
    "feature_names = df_result.loc[6]['feature_names']\n",
    "\n",
    "features_idx = [features_list.index(feature)-1 for feature in feature_names]"
   ]
  },
  {
   "cell_type": "markdown",
   "metadata": {},
   "source": [
    "Check what feature scores belongs to which feature"
   ]
  },
  {
   "cell_type": "code",
   "execution_count": 19,
   "metadata": {
    "collapsed": false
   },
   "outputs": [
    {
     "data": {
      "text/plain": [
       "[0, 2, 4, 13, 16, 20]"
      ]
     },
     "execution_count": 19,
     "metadata": {},
     "output_type": "execute_result"
    }
   ],
   "source": [
    "features_idx"
   ]
  },
  {
   "cell_type": "code",
   "execution_count": 20,
   "metadata": {
    "collapsed": false
   },
   "outputs": [
    {
     "name": "stdout",
     "output_type": "stream",
     "text": [
      "[ 20.79225205  11.45847658  24.81507973  16.40971255  18.28968404\n",
      "  24.18289868]\n",
      "['bonus', 'deferred_income', 'exercised_stock_options', 'relative_messages_to_poi', 'salary', 'total_stock_value']\n"
     ]
    }
   ],
   "source": [
    "selector = SelectKBest(f_classif, k=6).fit(features, labels)\n",
    "print selector.scores_[features_idx]\n",
    "print feature_names"
   ]
  }
 ],
 "metadata": {
  "kernelspec": {
   "display_name": "Python 2",
   "language": "python",
   "name": "python2"
  },
  "language_info": {
   "codemirror_mode": {
    "name": "ipython",
    "version": 2
   },
   "file_extension": ".py",
   "mimetype": "text/x-python",
   "name": "python",
   "nbconvert_exporter": "python",
   "pygments_lexer": "ipython2",
   "version": "2.7.11"
  }
 },
 "nbformat": 4,
 "nbformat_minor": 0
}
